{
 "cells": [
  {
   "cell_type": "code",
   "execution_count": 62,
   "id": "429d7a25-b9f2-4004-8a6b-733ffbe13ce9",
   "metadata": {},
   "outputs": [],
   "source": [
    "# looking for a specific field_name\n",
    "def match_insert(ast, field_name, result):\n",
    "    # base\n",
    "    if field_name in result:\n",
    "        return\n",
    "    \n",
    "    if type(ast) == dict:\n",
    "        if field_name in ast:\n",
    "#             print(ast[field_name])\n",
    "            result[field_name] = ast[field_name]\n",
    "            return\n",
    "        else:\n",
    "            for key in ast.keys():\n",
    "                match_insert(ast[key], field_name, result)\n",
    "    elif type(ast) == list:\n",
    "        for item in ast:\n",
    "            match_insert(item, field_name, result)\n",
    "\n",
    "# looking for a specific field_name whose value is field_value\n",
    "def dfs_insert(ast, field_name, field_value, result, rst_field_name):\n",
    "    # base\n",
    "    if rst_field_name in result:\n",
    "        return\n",
    "\n",
    "    if type(ast) == dict:\n",
    "        if field_name in ast and field_value in ast[field_name]:\n",
    "            result[rst_field_name] = ast\n",
    "            return\n",
    "        else:\n",
    "            for key in ast.keys():\n",
    "                dfs_insert(ast[key], field_name, field_value, result, rst_field_name)\n",
    "    elif type(ast) == list:\n",
    "        for item in ast:\n",
    "            dfs_insert(item, field_name, field_value, result, rst_field_name)\n",
    "\n"
   ]
  },
  {
   "cell_type": "code",
   "execution_count": 98,
   "id": "c25dc16f-aca5-48da-ab1e-87daa42768e5",
   "metadata": {},
   "outputs": [],
   "source": [
    "\n",
    "import json\n",
    "# Open JSON ast\n",
    "with open('./source/jsonAst/plsql_insert_2.json') as f:\n",
    "    ast = json.load(f)\n",
    "\n",
    "# match insert\n",
    "ast_insert = {}\n",
    "match_insert(ast, 'insert_statement', ast_insert)\n",
    "# print(ast_insert)\n",
    "\n",
    "# match target\n",
    "ast_target = {}\n",
    "match_insert(ast_insert, 'insert_into_clause', ast_target)\n",
    "\n",
    "# match source\n",
    "ast_source = {}\n",
    "dfs_insert(ast_insert, 'rule-path', 'select_statement', ast_source, 'source')\n"
   ]
  },
  {
   "cell_type": "code",
   "execution_count": 102,
   "id": "fd883f02-9540-4a90-b2e0-d40154a68512",
   "metadata": {},
   "outputs": [
    {
     "data": {
      "text/plain": [
       "('tt_bnk_dependent_defaulting', [])"
      ]
     },
     "execution_count": 102,
     "metadata": {},
     "output_type": "execute_result"
    }
   ],
   "source": [
    "def extract_target(ast):\n",
    "    # get table name\n",
    "    lineage_target_tbl = {}\n",
    "    tbl_field_val = 'general_table_ref'\n",
    "    dfs_insert(ast, 'rule-path', tbl_field_val, lineage_target_tbl, 'source')\n",
    "    tgt_tbl = lineage_target_tbl['source']['regular_id'][0]['value']\n",
    "\n",
    "    # get columns\n",
    "    raw_target_col = {}\n",
    "    col_field_name = 'column_list'\n",
    "    match_insert(ast, col_field_name, raw_target_col)\n",
    "\n",
    "    lineage_target_col = []\n",
    "    if col_field_name in raw_target_col:\n",
    "        get_list_dft(raw_target_col[col_field_name], lineage_target_col)\n",
    "\n",
    "    return tgt_tbl, lineage_target_col\n",
    "    \n",
    "    \n",
    "extract_target(ast_target)"
   ]
  },
  {
   "cell_type": "code",
   "execution_count": 101,
   "id": "9b768466-c953-44ba-9b55-2289c674661e",
   "metadata": {},
   "outputs": [
    {
     "name": "stdout",
     "output_type": "stream",
     "text": [
      "{'rule-path': 'table_ref', 'table_ref_aux': [{'rule-path': 'table_ref_aux_internal dml_table_expression_clause tableview_name identifier id_expression', 'object-type': 'tableview_name', 'regular_id': [{'class': 'token', 'type': 'REGULAR_ID', 'value': 'current_dependent_defaulting'}]}, {'whitespace': '_'}, {'rule-path': 'table_alias identifier id_expression', 'object-type': 'table_alias', 'regular_id': [{'class': 'token', 'type': 'REGULAR_ID', 'value': 'dd'}]}]}\n",
      "{'whitespace': 'n'}\n"
     ]
    },
    {
     "ename": "KeyError",
     "evalue": "'table_ref_aux'",
     "output_type": "error",
     "traceback": [
      "\u001b[0;31m---------------------------------------------------------------------------\u001b[0m",
      "\u001b[0;31mKeyError\u001b[0m                                  Traceback (most recent call last)",
      "\u001b[0;32m<ipython-input-101-53a60c107552>\u001b[0m in \u001b[0;36m<module>\u001b[0;34m\u001b[0m\n\u001b[1;32m     37\u001b[0m \u001b[0;34m\u001b[0m\u001b[0m\n\u001b[1;32m     38\u001b[0m \u001b[0;34m\u001b[0m\u001b[0m\n\u001b[0;32m---> 39\u001b[0;31m \u001b[0mextract_source\u001b[0m\u001b[0;34m(\u001b[0m\u001b[0mast_source\u001b[0m\u001b[0;34m)\u001b[0m\u001b[0;34m\u001b[0m\u001b[0;34m\u001b[0m\u001b[0m\n\u001b[0m",
      "\u001b[0;32m<ipython-input-101-53a60c107552>\u001b[0m in \u001b[0;36mextract_source\u001b[0;34m(ast)\u001b[0m\n\u001b[1;32m      4\u001b[0m     \u001b[0mmatch_insert\u001b[0m\u001b[0;34m(\u001b[0m\u001b[0mast\u001b[0m\u001b[0;34m,\u001b[0m \u001b[0;34m'from_clause'\u001b[0m\u001b[0;34m,\u001b[0m \u001b[0mraw_source_tbl\u001b[0m\u001b[0;34m)\u001b[0m\u001b[0;34m\u001b[0m\u001b[0;34m\u001b[0m\u001b[0m\n\u001b[1;32m      5\u001b[0m \u001b[0;31m#     print(lineage_target_tbl)\u001b[0m\u001b[0;34m\u001b[0m\u001b[0;34m\u001b[0m\u001b[0;34m\u001b[0m\u001b[0m\n\u001b[0;32m----> 6\u001b[0;31m     \u001b[0msrc_tbl\u001b[0m \u001b[0;34m=\u001b[0m \u001b[0mget_source_tbl\u001b[0m\u001b[0;34m(\u001b[0m\u001b[0mraw_source_tbl\u001b[0m\u001b[0;34m[\u001b[0m\u001b[0;34m'from_clause'\u001b[0m\u001b[0;34m]\u001b[0m\u001b[0;34m)\u001b[0m\u001b[0;34m\u001b[0m\u001b[0;34m\u001b[0m\u001b[0m\n\u001b[0m\u001b[1;32m      7\u001b[0m     \u001b[0mprint\u001b[0m\u001b[0;34m(\u001b[0m\u001b[0msrc_tbl\u001b[0m\u001b[0;34m)\u001b[0m\u001b[0;34m\u001b[0m\u001b[0;34m\u001b[0m\u001b[0m\n\u001b[1;32m      8\u001b[0m \u001b[0;34m\u001b[0m\u001b[0m\n",
      "\u001b[0;32m<ipython-input-101-53a60c107552>\u001b[0m in \u001b[0;36mget_source_tbl\u001b[0;34m(ast)\u001b[0m\n\u001b[1;32m     22\u001b[0m                 \u001b[0;32mfor\u001b[0m \u001b[0mtbl\u001b[0m \u001b[0;32min\u001b[0m \u001b[0mitem\u001b[0m\u001b[0;34m[\u001b[0m\u001b[0;34m'table_ref_list'\u001b[0m\u001b[0;34m]\u001b[0m\u001b[0;34m:\u001b[0m\u001b[0;34m\u001b[0m\u001b[0;34m\u001b[0m\u001b[0m\n\u001b[1;32m     23\u001b[0m                     \u001b[0mprint\u001b[0m\u001b[0;34m(\u001b[0m\u001b[0mtbl\u001b[0m\u001b[0;34m)\u001b[0m\u001b[0;34m\u001b[0m\u001b[0;34m\u001b[0m\u001b[0m\n\u001b[0;32m---> 24\u001b[0;31m                     \u001b[0msrc_tbl\u001b[0m\u001b[0;34m.\u001b[0m\u001b[0mappend\u001b[0m\u001b[0;34m(\u001b[0m\u001b[0mtbl\u001b[0m\u001b[0;34m[\u001b[0m\u001b[0;34m'table_ref_aux'\u001b[0m\u001b[0;34m]\u001b[0m\u001b[0;34m[\u001b[0m\u001b[0;36m0\u001b[0m\u001b[0;34m]\u001b[0m\u001b[0;34m[\u001b[0m\u001b[0;34m'regular_id'\u001b[0m\u001b[0;34m]\u001b[0m\u001b[0;34m[\u001b[0m\u001b[0;36m0\u001b[0m\u001b[0;34m]\u001b[0m\u001b[0;34m[\u001b[0m\u001b[0;34m'value'\u001b[0m\u001b[0;34m]\u001b[0m\u001b[0;34m)\u001b[0m\u001b[0;34m\u001b[0m\u001b[0;34m\u001b[0m\u001b[0m\n\u001b[0m\u001b[1;32m     25\u001b[0m             \u001b[0;31m# single table\u001b[0m\u001b[0;34m\u001b[0m\u001b[0;34m\u001b[0m\u001b[0;34m\u001b[0m\u001b[0m\n\u001b[1;32m     26\u001b[0m             \u001b[0;32melif\u001b[0m \u001b[0;34m'rule-path'\u001b[0m \u001b[0;32min\u001b[0m \u001b[0mitem\u001b[0m \u001b[0;32mand\u001b[0m \u001b[0;34m'table_ref_list'\u001b[0m \u001b[0;32min\u001b[0m \u001b[0mitem\u001b[0m\u001b[0;34m[\u001b[0m\u001b[0;34m'rule-path'\u001b[0m\u001b[0;34m]\u001b[0m\u001b[0;34m:\u001b[0m\u001b[0;34m\u001b[0m\u001b[0;34m\u001b[0m\u001b[0m\n",
      "\u001b[0;31mKeyError\u001b[0m: 'table_ref_aux'"
     ]
    }
   ],
   "source": [
    "def extract_source(ast):\n",
    "    # get source table\n",
    "    raw_source_tbl = {}\n",
    "    match_insert(ast, 'from_clause', raw_source_tbl)\n",
    "#     print(lineage_target_tbl)\n",
    "    src_tbl = get_source_tbl(raw_source_tbl['from_clause'])\n",
    "    print(src_tbl)\n",
    "    \n",
    "    # get source columns\n",
    "    raw_source_col = {}\n",
    "    dfs_insert(ast, 'rule-path', 'selected_element', raw_source_col, 'source')\n",
    "    src_col = get_source_col(raw_source_col['source'])\n",
    "    print(src_col)\n",
    "    return src_tbl, src_col\n",
    "    \n",
    "def get_source_tbl(ast):\n",
    "    src_tbl = []\n",
    "    if type(ast) == list:\n",
    "        for item in ast:\n",
    "            # multi tables\n",
    "            if 'table_ref_list' in item:\n",
    "                for tbl in item['table_ref_list']:\n",
    "\n",
    "                    src_tbl.append(tbl['table_ref_aux'][0]['regular_id'][0]['value'])\n",
    "            # single table\n",
    "            elif 'rule-path' in item and 'table_ref_list' in item['rule-path']:\n",
    "                src_tbl.append(item['regular_id'][0]['value'])\n",
    "    return src_tbl\n",
    "\n",
    "def get_source_col(ast):\n",
    "    src_col = []\n",
    "    if 'expressions' in ast and type(ast['expressions']) == list:\n",
    "        for item in ast['expressions']:\n",
    "            if 'object-type' in item and 'column_name' == item['object-type']:\n",
    "                src_col.append(item['regular_id'][0]['value'])\n",
    "    return src_col\n",
    "    \n",
    "    \n",
    "extract_source(ast_source)"
   ]
  }
 ],
 "metadata": {
  "kernelspec": {
   "display_name": "Python 3",
   "language": "python",
   "name": "python3"
  },
  "language_info": {
   "codemirror_mode": {
    "name": "ipython",
    "version": 3
   },
   "file_extension": ".py",
   "mimetype": "text/x-python",
   "name": "python",
   "nbconvert_exporter": "python",
   "pygments_lexer": "ipython3",
   "version": "3.8.8"
  }
 },
 "nbformat": 4,
 "nbformat_minor": 5
}

{
 "cells": [
  {
   "cell_type": "markdown",
   "id": "5ef415f1-e9d7-437e-91f3-a74a5c3df539",
   "metadata": {},
   "source": [
    "# AST to L0 data lineage file\n",
    "\n",
    "Converting an Abstract Syntax Tree in the JSON form into the L0 data lineage file.\n",
    "\n",
    "[Repository](https://github.com/jurgenei/SqlXmlAst) where the JSON AST is generated."
   ]
  },
  {
   "cell_type": "markdown",
   "id": "813bee8f-3e1a-4152-9366-ea9a37c1c3e2",
   "metadata": {},
   "source": [
    "## Case 1: simple insert"
   ]
  },
  {
   "cell_type": "code",
   "execution_count": 10,
   "id": "df5c4c29-63aa-4372-8938-fabaadda0cc0",
   "metadata": {},
   "outputs": [],
   "source": [
    "import numpy as np\n",
    "import json\n",
    "\n",
    "with open('./plsql_insert_1.json') as f:\n",
    "    ast = json.load(f)"
   ]
  },
  {
   "cell_type": "markdown",
   "id": "99ec63e8-ea79-43eb-96c1-6a6f69a4134c",
   "metadata": {},
   "source": [
    "### Get target table and columns"
   ]
  },
  {
   "cell_type": "code",
   "execution_count": 86,
   "id": "9d3c95b9-7690-4063-8717-4f8aded5777f",
   "metadata": {},
   "outputs": [],
   "source": [
    "tgt_raw = ast['body'][1]['sql_script'][0]['insert_statement'][2]['single_table_insert'][0]['insert_into_clause']\n",
    "\n",
    "tgt_tbl = tgt_raw[2]['regular_id'][0]['value']\n",
    "\n",
    "tgt_col_raw = tgt_raw[4]['paren_column_list'][1]['column_list']\n",
    "tgt_col = []\n",
    "\n",
    "for c in tgt_col_raw:\n",
    "    if 'rule-path' in c:\n",
    "        tgt_col.append(c['regular_id'][0]['value'])"
   ]
  },
  {
   "cell_type": "markdown",
   "id": "c941cf14-26c9-48f8-9241-af778392185f",
   "metadata": {},
   "source": [
    "### Get source table and columns"
   ]
  },
  {
   "cell_type": "code",
   "execution_count": 87,
   "id": "3beeab27-69b1-448e-8361-7fe34fa7ea65",
   "metadata": {},
   "outputs": [],
   "source": [
    "src_raw = ast['body'][1]['sql_script'][0]['insert_statement'][2]['single_table_insert'][2]\n",
    "\n",
    "src_tbl = src_raw['query_block'][4]['from_clause'][2]['regular_id'][0]['value']\n",
    "\n",
    "src_col_raw = src_raw['query_block'][2]['expressions']\n",
    "src_col = []\n",
    "\n",
    "for c in src_col_raw:\n",
    "    if 'object-type' in c and c['object-type'] == 'column_name':\n",
    "        src_col.append(c['regular_id'][0]['value'])"
   ]
  },
  {
   "cell_type": "markdown",
   "id": "b30dacfa-8c1d-4efd-8327-1c284ca31e22",
   "metadata": {},
   "source": [
    "### Result lineage"
   ]
  },
  {
   "cell_type": "code",
   "execution_count": 88,
   "id": "d765569b-2b3e-4b0d-9324-23572df15138",
   "metadata": {},
   "outputs": [
    {
     "name": "stdout",
     "output_type": "stream",
     "text": [
      "Source table: customers\n",
      "Source columns: ['customer_id', 'last_name', 'first_name']\n",
      "\n",
      "\n",
      "Target table: contacts\n",
      "Target columns: ['contact_id', 'last_name', 'first_name']\n"
     ]
    }
   ],
   "source": [
    "print('Source table: ' + src_tbl)\n",
    "print('Source columns: ' + str(src_col))\n",
    "print('\\n')\n",
    "print('Target table: ' + tgt_tbl)\n",
    "print('Target columns: ' + str(tgt_col))"
   ]
  },
  {
   "cell_type": "markdown",
   "id": "ffff163a-549f-47bc-8590-5e91411ae05c",
   "metadata": {},
   "source": [
    "## Using a DFT method\n",
    "A depth first traversal method"
   ]
  },
  {
   "cell_type": "code",
   "execution_count": 122,
   "id": "7b7d8aa3-5d7e-4800-b4c1-7a35b167678f",
   "metadata": {},
   "outputs": [
    {
     "name": "stdout",
     "output_type": "stream",
     "text": [
      "{'rule-path': 'general_table_ref dml_table_expression_clause tableview_name identifier id_expression', 'object-type': 'tableview_name', 'regular_id': [{'class': 'token', 'type': 'REGULAR_ID', 'value': 'contacts'}]}\n",
      "\n",
      "\n",
      "{'rule-path': 'column_name identifier id_expression', 'object-type': 'column_name', 'regular_id': [{'class': 'token', 'type': 'REGULAR_ID', 'value': 'contact_id'}]}\n",
      "\n",
      "\n",
      "{'rule-path': 'column_name identifier id_expression', 'object-type': 'column_name', 'regular_id': [{'class': 'token', 'type': 'REGULAR_ID', 'value': 'last_name'}]}\n",
      "\n",
      "\n",
      "{'rule-path': 'column_name identifier id_expression', 'object-type': 'column_name', 'regular_id': [{'class': 'token', 'type': 'REGULAR_ID', 'value': 'first_name'}]}\n",
      "\n",
      "\n",
      "{'rule-path': 'expression logical_expression multiset_expression relational_expression compound_expression concatenation model_expression unary_expression atom general_element general_element_part id_expression', 'object-type': 'column_name', 'regular_id': [{'class': 'token', 'type': 'REGULAR_ID', 'value': 'customer_id'}]}\n",
      "\n",
      "\n",
      "{'rule-path': 'expression logical_expression multiset_expression relational_expression compound_expression concatenation model_expression unary_expression atom general_element general_element_part id_expression', 'object-type': 'column_name', 'regular_id': [{'class': 'token', 'type': 'REGULAR_ID', 'value': 'last_name'}]}\n",
      "\n",
      "\n",
      "{'rule-path': 'expression logical_expression multiset_expression relational_expression compound_expression concatenation model_expression unary_expression atom general_element general_element_part id_expression', 'object-type': 'column_name', 'regular_id': [{'class': 'token', 'type': 'REGULAR_ID', 'value': 'first_name'}]}\n",
      "\n",
      "\n",
      "{'rule-path': 'table_ref_list table_ref table_ref_aux table_ref_aux_internal dml_table_expression_clause tableview_name identifier id_expression', 'object-type': 'tableview_name', 'regular_id': [{'class': 'token', 'type': 'REGULAR_ID', 'value': 'customers'}]}\n",
      "\n",
      "\n"
     ]
    }
   ],
   "source": [
    "lineage_raw = []\n",
    "\n",
    "def dfs(ast, info):\n",
    "    if type(ast) == dict:\n",
    "        if 'rule-path' in ast and 'regular_id' in ast:\n",
    "            info.append(ast)\n",
    "            print(ast)\n",
    "            print('\\n')\n",
    "            return\n",
    "        else:\n",
    "            for key in ast.keys():\n",
    "                if 'where_clause' == key:\n",
    "                    return\n",
    "                dfs(ast[key], info)\n",
    "    elif type(ast) == list:\n",
    "        for item in ast:\n",
    "            dfs(item, info)\n",
    "#     elif type(ast) == str:\n",
    "#         return\n",
    "    else:\n",
    "        return\n",
    "        \n",
    "    return\n",
    "\n",
    "\n",
    "dfs(ast['body'][1]['sql_script'][0], lineage_raw)"
   ]
  },
  {
   "cell_type": "code",
   "execution_count": 124,
   "id": "d3c1ebb9-e8d4-4b30-b0ea-84a2c0f41277",
   "metadata": {},
   "outputs": [
    {
     "name": "stdout",
     "output_type": "stream",
     "text": [
      "Source table: customers\n",
      "Source columns: ['customer_id', 'last_name', 'first_name']\n",
      "\n",
      "\n",
      "Target table: contacts\n",
      "Target columns: ['contact_id', 'last_name', 'first_name']\n"
     ]
    }
   ],
   "source": [
    "src_tbl = ''\n",
    "src_col = []\n",
    "\n",
    "tgt_tbl = ''\n",
    "tgt_col = []\n",
    "\n",
    "for item in lineage_raw:\n",
    "    if 'general_table_ref' in item['rule-path']:\n",
    "        tgt_tbl = item['regular_id'][0]['value']\n",
    "    elif 'logical_expression' not in item['rule-path'] and 'column_name' == item['object-type']:\n",
    "        tgt_col.append(item['regular_id'][0]['value'])\n",
    "    elif 'logical_expression' in item['rule-path'] and 'column_name' == item['object-type']:\n",
    "        src_col.append(item['regular_id'][0]['value'])\n",
    "    else:\n",
    "        src_tbl = item['regular_id'][0]['value']\n",
    "        \n",
    "        \n",
    "print('Source table: ' + src_tbl)\n",
    "print('Source columns: ' + str(src_col))\n",
    "print('\\n')\n",
    "print('Target table: ' + tgt_tbl)\n",
    "print('Target columns: ' + str(tgt_col))"
   ]
  },
  {
   "cell_type": "markdown",
   "id": "23fddf58-292d-4a72-9017-99f3981f3a5b",
   "metadata": {},
   "source": [
    "## Case 2: insert with complicated conditions"
   ]
  },
  {
   "cell_type": "code",
   "execution_count": 152,
   "id": "54c04fc1-3725-4b7a-ab94-58ef1d36704d",
   "metadata": {},
   "outputs": [],
   "source": [
    "with open('./plsql_insert_2.json') as f:\n",
    "    ast = json.load(f)"
   ]
  },
  {
   "cell_type": "code",
   "execution_count": 153,
   "id": "af8069d9-4eee-4a78-83bf-60656d2d3ebc",
   "metadata": {},
   "outputs": [
    {
     "name": "stdout",
     "output_type": "stream",
     "text": [
      "{'rule-path': 'general_table_ref dml_table_expression_clause tableview_name identifier id_expression', 'object-type': 'tableview_name', 'regular_id': [{'class': 'token', 'type': 'REGULAR_ID', 'value': 'tt_bnk_dependent_defaulting'}]}\n",
      "\n",
      "\n",
      "{'rule-path': 'expression logical_expression multiset_expression relational_expression compound_expression concatenation model_expression unary_expression atom general_element general_element_part id_expression', 'object-type': 'column_name', 'regular_id': [{'class': 'token', 'type': 'REGULAR_ID', 'value': 'dependent_on_value'}]}\n",
      "\n",
      "\n",
      "{'rule-path': 'expression logical_expression multiset_expression relational_expression compound_expression concatenation model_expression unary_expression atom general_element general_element_part id_expression', 'object-type': 'column_name', 'regular_id': [{'class': 'token', 'type': 'REGULAR_ID', 'value': 'vortex_reference'}]}\n",
      "\n",
      "\n",
      "{'rule-path': 'table_ref_aux_internal dml_table_expression_clause tableview_name identifier id_expression', 'object-type': 'tableview_name', 'regular_id': [{'class': 'token', 'type': 'REGULAR_ID', 'value': 'current_dependent_defaulting'}]}\n",
      "\n",
      "\n",
      "{'rule-path': 'table_alias identifier id_expression', 'object-type': 'table_alias', 'regular_id': [{'class': 'token', 'type': 'REGULAR_ID', 'value': 'dd'}]}\n",
      "\n",
      "\n",
      "{'rule-path': 'table_ref_aux_internal dml_table_expression_clause tableview_name identifier id_expression', 'object-type': 'tableview_name', 'regular_id': [{'class': 'token', 'type': 'REGULAR_ID', 'value': 'current_field_related_activity'}]}\n",
      "\n",
      "\n",
      "{'rule-path': 'table_alias identifier id_expression', 'object-type': 'table_alias', 'regular_id': [{'class': 'token', 'type': 'REGULAR_ID', 'value': 'fa'}]}\n",
      "\n",
      "\n"
     ]
    }
   ],
   "source": [
    "lineage_raw = []\n",
    "dfs(ast['body'][1]['sql_script'][0], lineage_raw)"
   ]
  },
  {
   "cell_type": "code",
   "execution_count": 129,
   "id": "03d2eb0f-99be-4d31-81b9-1523a195aca4",
   "metadata": {},
   "outputs": [
    {
     "name": "stdout",
     "output_type": "stream",
     "text": [
      "Source table: ['current_dependent_defaulting', 'dd', 'current_field_related_activity', 'fa']\n",
      "Source columns: ['dependent_on_value', 'vortex_reference']\n",
      "\n",
      "\n",
      "Target table: tt_bnk_dependent_defaulting\n",
      "Target columns: []\n"
     ]
    }
   ],
   "source": [
    "src_tbl = []\n",
    "src_col = []\n",
    "\n",
    "tgt_tbl = ''\n",
    "tgt_col = []\n",
    "\n",
    "for item in lineage_raw:\n",
    "    if 'general_table_ref' in item['rule-path']:\n",
    "        tgt_tbl = item['regular_id'][0]['value']\n",
    "    elif 'logical_expression' not in item['rule-path'] and 'column_name' == item['object-type']:\n",
    "        tgt_col.append(item['regular_id'][0]['value'])\n",
    "    elif 'logical_expression' in item['rule-path'] and 'column_name' == item['object-type']:\n",
    "        src_col.append(item['regular_id'][0]['value'])\n",
    "    else:\n",
    "        src_tbl.append(item['regular_id'][0]['value'])\n",
    "        \n",
    "        \n",
    "print('Source table: ' + str(src_tbl))\n",
    "print('Source columns: ' + str(src_col))\n",
    "print('\\n')\n",
    "print('Target table: ' + tgt_tbl)\n",
    "print('Target columns: ' + str(tgt_col))"
   ]
  },
  {
   "cell_type": "markdown",
   "id": "2d78b090-6612-4ca5-a2ae-bfbef76c1cbc",
   "metadata": {},
   "source": [
    "The DFT returns some results, but there are two errors:\n",
    "- Table alias not identified: we can easily solve it by ingnoring it\n",
    "- Target columns not identified: this is because they are not defined explicitly. In this case, they are the same as source columns. We just have to assign the value to them."
   ]
  },
  {
   "cell_type": "code",
   "execution_count": 154,
   "id": "b8aec2e0-a805-4109-83c9-f75811148c16",
   "metadata": {},
   "outputs": [
    {
     "name": "stdout",
     "output_type": "stream",
     "text": [
      "Source table: ['current_dependent_defaulting', 'current_field_related_activity']\n",
      "Source columns: ['dependent_on_value', 'vortex_reference']\n",
      "\n",
      "\n",
      "Target table: tt_bnk_dependent_defaulting\n",
      "Target columns: []\n"
     ]
    }
   ],
   "source": [
    "src_tbl = []\n",
    "src_col = []\n",
    "\n",
    "tgt_tbl = ''\n",
    "tgt_col = []\n",
    "\n",
    "for item in lineage_raw:\n",
    "    if 'table_alias' in item['rule-path']:\n",
    "        continue\n",
    "    if 'general_table_ref' in item['rule-path']:\n",
    "        tgt_tbl = item['regular_id'][0]['value']\n",
    "    elif 'logical_expression' not in item['rule-path'] and 'column_name' == item['object-type']:\n",
    "        tgt_col.append(item['regular_id'][0]['value'])\n",
    "    elif 'logical_expression' in item['rule-path'] and 'column_name' == item['object-type']:\n",
    "        src_col.append(item['regular_id'][0]['value'])\n",
    "    else:\n",
    "        src_tbl.append(item['regular_id'][0]['value'])\n",
    "        \n",
    "        \n",
    "print('Source table: ' + str(src_tbl))\n",
    "print('Source columns: ' + str(src_col))\n",
    "print('\\n')\n",
    "print('Target table: ' + tgt_tbl)\n",
    "print('Target columns: ' + str(tgt_col))"
   ]
  },
  {
   "cell_type": "markdown",
   "id": "fc97e469-8a52-4240-838d-788c618cf791",
   "metadata": {},
   "source": [
    "## Case 3, alias columns 1"
   ]
  },
  {
   "cell_type": "code",
   "execution_count": 155,
   "id": "899d24b5-7947-40f4-a1be-f7224ab92ec9",
   "metadata": {},
   "outputs": [],
   "source": [
    "import json\n",
    "\n",
    "with open('./plsql_alias_column1.json') as f:\n",
    "    ast = json.load(f)"
   ]
  },
  {
   "cell_type": "code",
   "execution_count": 156,
   "id": "2912f6ab-624a-4cc2-a63f-0e32ede67498",
   "metadata": {},
   "outputs": [
    {
     "name": "stdout",
     "output_type": "stream",
     "text": [
      "{'rule-path': 'select_list_elements expressions expression logical_expression multiset_expression relational_expression compound_expression concatenation model_expression unary_expression atom general_element general_element_part id_expression', 'object-type': 'column_name', 'regular_id': [{'class': 'token', 'type': 'REGULAR_ID', 'value': 'first_name'}]}\n",
      "\n",
      "\n",
      "{'rule-path': 'identifier id_expression', 'object-type': 'column_alias', 'regular_id': [{'class': 'token', 'type': 'REGULAR_ID', 'value': 'forename'}]}\n",
      "\n",
      "\n",
      "{'rule-path': 'select_list_elements expressions expression logical_expression multiset_expression relational_expression compound_expression concatenation model_expression unary_expression atom general_element general_element_part id_expression', 'object-type': 'column_name', 'regular_id': [{'class': 'token', 'type': 'REGULAR_ID', 'value': 'last_name'}]}\n",
      "\n",
      "\n",
      "{'rule-path': 'identifier id_expression', 'object-type': 'column_alias', 'regular_id': [{'class': 'token', 'type': 'REGULAR_ID', 'value': 'surname'}]}\n",
      "\n",
      "\n",
      "{'rule-path': 'table_ref_list table_ref table_ref_aux table_ref_aux_internal dml_table_expression_clause tableview_name identifier id_expression', 'object-type': 'tableview_name', 'regular_id': [{'class': 'token', 'type': 'REGULAR_ID', 'value': 'employees'}]}\n",
      "\n",
      "\n",
      "Source table: ['forename', 'surname', 'employees']\n",
      "Source columns: ['first_name', 'last_name']\n",
      "\n",
      "\n",
      "Target table: \n",
      "Target columns: []\n"
     ]
    }
   ],
   "source": [
    "lineage_raw = []\n",
    "dfs(ast['body'][1]['sql_script'][0], lineage_raw)\n",
    "\n",
    "src_tbl = []\n",
    "src_col = []\n",
    "\n",
    "tgt_tbl = ''\n",
    "tgt_col = []\n",
    "\n",
    "for item in lineage_raw:\n",
    "    if 'table_alias' in item['rule-path'] or 'column_alias' in item['rule-path']:\n",
    "        continue\n",
    "    if 'general_table_ref' in item['rule-path']:\n",
    "        tgt_tbl = item['regular_id'][0]['value']\n",
    "    elif 'logical_expression' not in item['rule-path'] and 'column_name' == item['object-type']:\n",
    "        tgt_col.append(item['regular_id'][0]['value'])\n",
    "    elif 'logical_expression' in item['rule-path'] and 'column_name' == item['object-type']:\n",
    "        src_col.append(item['regular_id'][0]['value'])\n",
    "    else:\n",
    "        src_tbl.append(item['regular_id'][0]['value'])\n",
    "        \n",
    "# when either target columns or table is identified, lease them as it is\n",
    "if len(tgt_col) < 1 and tgt_tbl:\n",
    "    tgt_col = src_col\n",
    "        \n",
    "        \n",
    "print('Source table: ' + str(src_tbl))\n",
    "print('Source columns: ' + str(src_col))\n",
    "print('\\n')\n",
    "print('Target table: ' + tgt_tbl)\n",
    "print('Target columns: ' + str(tgt_col))"
   ]
  },
  {
   "cell_type": "markdown",
   "id": "5b63b71f-ef5a-47f2-86ec-3a9612e659a0",
   "metadata": {},
   "source": [
    "The source table is wrong. This is because the if-else is not well defined. It is alright to keep adding if-else, but we will think more of a template way, which is the target for next step."
   ]
  },
  {
   "cell_type": "markdown",
   "id": "4ce71fcf-df64-45c7-b679-43a6c0572113",
   "metadata": {},
   "source": [
    "## Case 4, alias columns 2"
   ]
  },
  {
   "cell_type": "code",
   "execution_count": 151,
   "id": "8cec9cec-c33d-49e8-a5f8-fdf045af016c",
   "metadata": {},
   "outputs": [
    {
     "name": "stdout",
     "output_type": "stream",
     "text": [
      "{'rule-path': 'concatenation model_expression unary_expression atom general_element general_element_part id_expression', 'object-type': 'column_name', 'regular_id': [{'class': 'token', 'type': 'REGULAR_ID', 'value': 'first_name'}]}\n",
      "\n",
      "\n",
      "{'rule-path': 'concatenation model_expression unary_expression atom general_element general_element_part id_expression', 'object-type': 'column_name', 'regular_id': [{'class': 'token', 'type': 'REGULAR_ID', 'value': 'last_name'}]}\n",
      "\n",
      "\n",
      "{'rule-path': 'table_ref_list table_ref table_ref_aux table_ref_aux_internal dml_table_expression_clause tableview_name identifier id_expression', 'object-type': 'tableview_name', 'regular_id': [{'class': 'token', 'type': 'REGULAR_ID', 'value': 'employees'}]}\n",
      "\n",
      "\n",
      "Source table: ['employees']\n",
      "Source columns: []\n",
      "\n",
      "\n",
      "Target table: \n",
      "Target columns: ['first_name', 'last_name']\n"
     ]
    }
   ],
   "source": [
    "import json\n",
    "\n",
    "with open('./plsql_alias_column2.json') as f:\n",
    "    ast = json.load(f)\n",
    "    \n",
    "lineage_raw = []\n",
    "dfs(ast['body'][1]['sql_script'][0], lineage_raw)\n",
    "\n",
    "src_tbl = []\n",
    "src_col = []\n",
    "\n",
    "tgt_tbl = ''\n",
    "tgt_col = []\n",
    "\n",
    "for item in lineage_raw:\n",
    "    if 'table_alias' in item['rule-path'] or 'column_alias' in item['rule-path']:\n",
    "        continue\n",
    "    if 'general_table_ref' in item['rule-path']:\n",
    "        tgt_tbl = item['regular_id'][0]['value']\n",
    "    elif 'logical_expression' not in item['rule-path'] and 'column_name' == item['object-type']:\n",
    "        tgt_col.append(item['regular_id'][0]['value'])\n",
    "    elif 'logical_expression' in item['rule-path'] and 'column_name' == item['object-type']:\n",
    "        src_col.append(item['regular_id'][0]['value'])\n",
    "    else:\n",
    "        src_tbl.append(item['regular_id'][0]['value'])\n",
    "        \n",
    "# when either target columns or table is identified, leave them as it is\n",
    "if len(tgt_col) < 1 and tgt_tbl:\n",
    "    tgt_col = src_col\n",
    "        \n",
    "        \n",
    "print('Source table: ' + str(src_tbl))\n",
    "print('Source columns: ' + str(src_col))\n",
    "print('\\n')\n",
    "print('Target table: ' + tgt_tbl)\n",
    "print('Target columns: ' + str(tgt_col))"
   ]
  },
  {
   "cell_type": "markdown",
   "id": "17dd802f-6a10-4cb4-abf7-ad7f96d8afb6",
   "metadata": {},
   "source": [
    "Now we can see the shortage of extracting lineage info out of the DFT result: too many if-elses!\n",
    "\n",
    "Possible improvement:\n",
    "- DFT is ordered. So everything inside 'select_clause' should be considered in source info"
   ]
  }
 ],
 "metadata": {
  "kernelspec": {
   "display_name": "Python 3",
   "language": "python",
   "name": "python3"
  },
  "language_info": {
   "codemirror_mode": {
    "name": "ipython",
    "version": 3
   },
   "file_extension": ".py",
   "mimetype": "text/x-python",
   "name": "python",
   "nbconvert_exporter": "python",
   "pygments_lexer": "ipython3",
   "version": "3.8.8"
  }
 },
 "nbformat": 4,
 "nbformat_minor": 5
}

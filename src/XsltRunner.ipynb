{
 "cells": [
  {
   "cell_type": "code",
   "execution_count": 10,
   "id": "297d3fee-464b-456a-8509-a3fa95bc91b8",
   "metadata": {},
   "outputs": [
    {
     "ename": "XSLTParseError",
     "evalue": "The value '#current' of the attribute 'mode' is not a valid QName.",
     "output_type": "error",
     "traceback": [
      "\u001b[0;31m---------------------------------------------------------------------------\u001b[0m",
      "\u001b[0;31mXSLTParseError\u001b[0m                            Traceback (most recent call last)",
      "\u001b[0;32m<ipython-input-10-aedff66c22db>\u001b[0m in \u001b[0;36m<module>\u001b[0;34m\u001b[0m\n\u001b[1;32m     13\u001b[0m \u001b[0;31m# load XSLT\u001b[0m\u001b[0;34m\u001b[0m\u001b[0;34m\u001b[0m\u001b[0;34m\u001b[0m\u001b[0m\n\u001b[1;32m     14\u001b[0m \u001b[0;31m# transform = etree.XSLT(etree.fromstring(XSL))\u001b[0m\u001b[0;34m\u001b[0m\u001b[0;34m\u001b[0m\u001b[0;34m\u001b[0m\u001b[0m\n\u001b[0;32m---> 15\u001b[0;31m \u001b[0mtransform\u001b[0m \u001b[0;34m=\u001b[0m \u001b[0metree\u001b[0m\u001b[0;34m.\u001b[0m\u001b[0mXSLT\u001b[0m\u001b[0;34m(\u001b[0m\u001b[0mXSL\u001b[0m\u001b[0;34m)\u001b[0m\u001b[0;34m\u001b[0m\u001b[0;34m\u001b[0m\u001b[0m\n\u001b[0m\u001b[1;32m     16\u001b[0m \u001b[0;34m\u001b[0m\u001b[0m\n\u001b[1;32m     17\u001b[0m \u001b[0;31m# apply XSLT on loaded dom\u001b[0m\u001b[0;34m\u001b[0m\u001b[0;34m\u001b[0m\u001b[0;34m\u001b[0m\u001b[0m\n",
      "\u001b[0;32msrc/lxml/xslt.pxi\u001b[0m in \u001b[0;36mlxml.etree.XSLT.__init__\u001b[0;34m()\u001b[0m\n",
      "\u001b[0;31mXSLTParseError\u001b[0m: The value '#current' of the attribute 'mode' is not a valid QName."
     ]
    }
   ],
   "source": [
    "from lxml import etree\n",
    "\n",
    "# read XSL as string\n",
    "XSL = etree.parse('../source/ref/sqlxmlast-lineage.xsl')\n",
    "\n",
    "# load input\n",
    "dom = etree.parse('../source/xmlAst/plsql_insert_1.xml')\n",
    "\n",
    "# load XSLT\n",
    "# transform = etree.XSLT(etree.fromstring(XSL))\n",
    "transform = etree.XSLT(XSL)\n",
    "\n",
    "# apply XSLT on loaded dom\n",
    "# s = str(transform(dom))\n",
    "# line = s.replace('\\n','')\n",
    "# line.splitlines()\n",
    "s = transform(dom)\n",
    "\n",
    "print(s)"
   ]
  }
 ],
 "metadata": {
  "kernelspec": {
   "display_name": "Python 3",
   "language": "python",
   "name": "python3"
  },
  "language_info": {
   "codemirror_mode": {
    "name": "ipython",
    "version": 3
   },
   "file_extension": ".py",
   "mimetype": "text/x-python",
   "name": "python",
   "nbconvert_exporter": "python",
   "pygments_lexer": "ipython3",
   "version": "3.8.8"
  }
 },
 "nbformat": 4,
 "nbformat_minor": 5
}
